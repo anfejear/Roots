{
 "cells": [
  {
   "cell_type": "code",
   "execution_count": 2,
   "metadata": {},
   "outputs": [],
   "source": [
    "import numpy as np\n",
    "from scipy import optimize\n",
    "import matplotlib.pyplot as plt\n",
    "import matplotlib.style as style\n",
    "style.available\n",
    "%matplotlib inline\n",
    "style.use('fivethirtyeight')"
   ]
  },
  {
   "cell_type": "code",
   "execution_count": 3,
   "metadata": {},
   "outputs": [],
   "source": [
    "def f(x):\n",
    "    return x**2-4\n",
    "\n",
    "def df(x):\n",
    "    return 2*x\n",
    "\n",
    "def bisect(f,a,b,tol):\n",
    "    iter = 0\n",
    "    db = tol*2\n",
    "    while db>tol:\n",
    "        m = a+(b-a)/2\n",
    "        if np.sign(f(a)) == np.sign(f(m)):\n",
    "            a = m\n",
    "        else:\n",
    "            b = m\n",
    "        iter = iter +1\n",
    "        db = abs(b-a)\n",
    "    return m, iter, db\n",
    "\n",
    "def secant(f,a,b,tol):\n",
    "    x = []\n",
    "    x.append(a);\n",
    "    x.append(b);\n",
    "    k = 0\n",
    "    db = 2*tol\n",
    "    while db>tol:\n",
    "        k = k+1\n",
    "        x.append(np.array(x[k]) - (f(np.array(x[k]))*(np.array(x[k])-np.array(x[k-1])))/(f(np.array(x[k]))-f(np.array(x[k-1]))))\n",
    "        db = abs(np.array(x[k])-np.array(x[k+1]))\n",
    "    return x[k], k, db\n",
    "\n",
    "def newton(f,a,tol):\n",
    "    x = []\n",
    "    x.append(a);\n",
    "    k = 0\n",
    "    db = 2*tol;\n",
    "    while db >tol:\n",
    "        x.append(np.array(x[k])-f(np.array(x[k]))/df(np.array(x[k])))\n",
    "        db = abs(np.array(x[k])-np.array(x[k+1]))\n",
    "        k = k+1\n",
    "    return x[k], k, db\n",
    "\n",
    "def brent(f,a,b,c,tol):\n",
    "    db = 2*tol;\n",
    "    iter = 0;\n",
    "    while (db > tol):\n",
    "        u = f(b)/f(c)\n",
    "        v = f(b)/f(a)\n",
    "        w = f(a)/f(c)\n",
    "        p = v*(w*(u-w)*(c-b)-(1-u)*(b-a))\n",
    "        q = (w-1)*(u-1)*(v-1)\n",
    "        bnew = b + p/q\n",
    "        db = abs(b-bnew)\n",
    "        c = a\n",
    "        a = b\n",
    "        b = bnew\n",
    "        iter = iter+1;\n",
    "    return b, iter, db"
   ]
  },
  {
   "cell_type": "code",
   "execution_count": 14,
   "metadata": {},
   "outputs": [],
   "source": [
    "a = -10\n",
    "b = 0.2\n",
    "c = 1.2\n",
    "tol = 1e-1\n",
    "[xbr, iterbr, errbr] = brent(f,a,b,c,tol)"
   ]
  },
  {
   "cell_type": "code",
   "execution_count": 15,
   "metadata": {},
   "outputs": [
    {
     "data": {
      "text/plain": [
       "<matplotlib.legend.Legend at 0x7fec3282dc88>"
      ]
     },
     "execution_count": 15,
     "metadata": {},
     "output_type": "execute_result"
    },
    {
     "data": {
      "image/png": "[encoded data removed]",
      "text/plain": [
       "<matplotlib.figure.Figure at 0x7fec3a333ac8>"
      ]
     },
     "metadata": {},
     "output_type": "display_data"
    }
   ],
   "source": [
    "a = 0.1\n",
    "b = 3\n",
    "c = 5\n",
    "tol = 1e-1\n",
    "tol = np.array([1e-1,1e-2,1e-3,1e-4,1e-5,1e-6]);\n",
    "fig = plt.figure(figsize=(10,8));\n",
    "fte_graph = fig.add_subplot(111);\n",
    "N = np.size(tol)\n",
    "iterbx=[]\n",
    "errbx=[]\n",
    "itersx=[]\n",
    "errsx=[]\n",
    "iternx=[]\n",
    "errnx=[]\n",
    "iterbrx=[]\n",
    "errbrx=[]\n",
    "for index in np.arange(N):\n",
    "    [xb, iterb, errb] = bisect(f,a,b,tol[index])\n",
    "    [xs, iters, errs] = secant(f,a,b,tol[index])\n",
    "    [xn, itern, errn] = newton(f,a,tol[index])\n",
    "    [xbr, iterbr, errbr] = brent(f,a,b,c,tol[index])\n",
    "    iterbx.append(iterb);\n",
    "    errbx.append(errb);\n",
    "    itersx.append(iters);\n",
    "    errsx.append(errs);\n",
    "    iternx.append(itern);\n",
    "    errnx.append(errn);\n",
    "    iterbrx.append(iterbr);\n",
    "    errbrx.append(errbr);\n",
    "fte_graph.plot(np.array(errbx),np.array(iterbx),'*b',label='Bisect')\n",
    "fte_graph.plot(np.array(errsx),np.array(itersx),'*r',label='Secant')\n",
    "fte_graph.plot(np.array(errnx),np.array(iternx),'*y',label='Newton')\n",
    "fte_graph.plot(np.array(errbrx),np.array(iterbrx),'*g',label='Brent') \n",
    "fte_graph.legend()"
   ]
  },
  {
   "cell_type": "code",
   "execution_count": null,
   "metadata": {},
   "outputs": [],
   "source": []
  }
 ],
 "metadata": {
  "kernelspec": {
   "display_name": "Python 3",
   "language": "python",
   "name": "python3"
  },
  "language_info": {
   "codemirror_mode": {
    "name": "ipython",
    "version": 3
   },
   "file_extension": ".py",
   "mimetype": "text/x-python",
   "name": "python",
   "nbconvert_exporter": "python",
   "pygments_lexer": "ipython3",
   "version": "3.6.4"
  }
 },
 "nbformat": 4,
 "nbformat_minor": 2
}
